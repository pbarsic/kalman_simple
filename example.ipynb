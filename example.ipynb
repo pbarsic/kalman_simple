{
 "cells": [
  {
   "cell_type": "code",
   "execution_count": null,
   "metadata": {},
   "outputs": [],
   "source": [
    "import matplotlib.pyplot as plt\n",
    "import numpy as np\n",
    "\n",
    "%load_ext autoreload\n",
    "%aimport kalman_filter"
   ]
  },
  {
   "cell_type": "code",
   "execution_count": null,
   "metadata": {},
   "outputs": [],
   "source": [
    "def fquad(A, B, C, tvals):\n",
    "    return A + B*tvals + C * tvals**2"
   ]
  },
  {
   "cell_type": "code",
   "execution_count": null,
   "metadata": {},
   "outputs": [],
   "source": [
    "def make_column(x0, xL, xQ, xstd, tvals):\n",
    "    return fquad(x0, xL, xQ, tvals) + np.random.randn(tvals.shape[0]) * xstd\n"
   ]
  },
  {
   "cell_type": "code",
   "execution_count": null,
   "metadata": {},
   "outputs": [],
   "source": [
    "def make_data(timestart, timestop, deltat, tstd,  x0, xL, xQ, xstd, y0, yL, yQ, ystd):\n",
    "    tvals = np.arange(timestart, timestop, deltat)\n",
    "    xvals = make_column(x0, xL, xQ, xstd, tvals)\n",
    "    yvals = make_column(y0, yL, yQ, ystd, tvals)\n",
    "    tvals += tvals + np.abs(np.random.randn(tvals.shape[0])) * tstd\n",
    "    return np.concatenate([tvals, xvals, yvals]).reshape(3, -1).T\n"
   ]
  },
  {
   "cell_type": "code",
   "execution_count": null,
   "metadata": {},
   "outputs": [],
   "source": [
    "timestart = 0\n",
    "timestop = 10\n",
    "deltat = 0.25\n",
    "tstd = 0.1 * deltat\n",
    "\n",
    "x0 = 200\n",
    "xL = 5\n",
    "xQ = 0.25\n",
    "xstd = 0.1\n",
    "\n",
    "y0 = 600\n",
    "yL = -2.5\n",
    "yQ = 0.2\n",
    "ystd = 0.1\n",
    "\n",
    "\n",
    "dataset = make_data(timestart, timestop, deltat, tstd, x0, xL, xQ, xstd, y0, yL, yQ, ystd)"
   ]
  },
  {
   "cell_type": "code",
   "execution_count": null,
   "metadata": {},
   "outputs": [],
   "source": [
    "measurement_error = np.array(\n",
    "    [\n",
    "        xstd**2,\n",
    "        ystd**2,\n",
    "        np.sqrt(xstd**2 + tstd**2),\n",
    "        np.sqrt(ystd**2 + tstd**2),\n",
    "    ]\n",
    ")\n",
    "\n",
    "initial_state = np.zeros(3)\n",
    "\n",
    "state_history = np.array([])\n",
    "kf = kalman_filter.Kalman2D(measurement_error)\n",
    "for datum in dataset:\n",
    "    kf.update(datum)\n",
    "\n",
    "    current_state = np.concatenate(\n",
    "        [kf.get_time(), kf.get_position(), kf.get_velocity()]\n",
    "    )\n",
    "\n",
    "    # print(\n",
    "    #     f\"{kf.get_time().shape}, {kf.get_position().shape}, {kf.get_velocity().shape} {current_state.shape} {state_history.shape}\"\n",
    "    # )\n",
    "\n",
    "    if state_history.shape[0] == 0:\n",
    "        state_history = current_state\n",
    "    else:\n",
    "        state_history = np.concatenate([state_history, current_state])\n",
    "\n",
    "state_history = state_history.reshape(-1, 5)\n"
   ]
  },
  {
   "cell_type": "code",
   "execution_count": null,
   "metadata": {},
   "outputs": [],
   "source": [
    "plt.plot(dataset[:,0], dataset[:,1], 'o', label='x input')\n",
    "plt.plot(state_history[:,0], state_history[:,1], '+', label=\"x fit\")\n",
    "plt.plot(dataset[:,0], dataset[:,2], '2', label='y input')\n",
    "plt.plot(state_history[:,0], state_history[:,2], 'x', label=\"y fit\")\n",
    "plt.legend()\n",
    "plt.grid(True)\n",
    "plt.show()"
   ]
  },
  {
   "cell_type": "code",
   "execution_count": null,
   "metadata": {},
   "outputs": [],
   "source": [
    "plt.plot(dataset[:,1], dataset[:,2], '3', label=\"input\")\n",
    "plt.plot(state_history[:,1], state_history[:,2], '4', label=\"fit\")\n",
    "plt.grid(True)\n",
    "plt.legend()\n",
    "plt.show()"
   ]
  },
  {
   "cell_type": "code",
   "execution_count": null,
   "metadata": {},
   "outputs": [],
   "source": []
  }
 ],
 "metadata": {
  "kernelspec": {
   "display_name": "cv",
   "language": "python",
   "name": "python3"
  },
  "language_info": {
   "codemirror_mode": {
    "name": "ipython",
    "version": 3
   },
   "file_extension": ".py",
   "mimetype": "text/x-python",
   "name": "python",
   "nbconvert_exporter": "python",
   "pygments_lexer": "ipython3",
   "version": "3.9.2"
  },
  "orig_nbformat": 4,
  "vscode": {
   "interpreter": {
    "hash": "0ddf3e2cd7b535bd0bc635b092ee318d129ee633555f4360bf3caa85dec26f8c"
   }
  }
 },
 "nbformat": 4,
 "nbformat_minor": 2
}
